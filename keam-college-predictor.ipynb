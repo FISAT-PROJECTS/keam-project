{
 "cells": [
  {
   "cell_type": "markdown",
   "source": [
    "# Problem Statement\n",
    "\n",
    "Given the user input: their keam rank, category and thier preferred course for admission, display the colleges with previous year's closing rank greater than the input rank (in the priority order of popular colleges)."
   ],
   "metadata": {}
  },
  {
   "cell_type": "markdown",
   "source": [
    "#### Necessary imports"
   ],
   "metadata": {}
  },
  {
   "cell_type": "code",
   "execution_count": 1,
   "source": [
    "import pandas as pd"
   ],
   "outputs": [],
   "metadata": {}
  },
  {
   "cell_type": "markdown",
   "source": [
    "#### Reading Data"
   ],
   "metadata": {}
  },
  {
   "cell_type": "code",
   "execution_count": 2,
   "source": [
    "df = pd.read_csv(\"ouput_csv/final_data.csv\")\n",
    "df.head()"
   ],
   "outputs": [
    {
     "output_type": "execute_result",
     "data": {
      "text/plain": [
       "   Unnamed: 0 College Code                                       College Name  \\\n",
       "0           0          ILE  ILM College of Engineering, Perumbavoor, Ernak...   \n",
       "1           1          JCE  Jawaharlal College of Engineering & Technology...   \n",
       "2           2          MHP          Ace College of Engineering, .Thiruvallam.   \n",
       "3           3          MZC       Mount Zion College of Engg., Pathanamthitta.   \n",
       "4           4          RIE  Rajadhani Institute of Engineering & Tech., At...   \n",
       "\n",
       "                     Course Type     SM  EZ  MU  BH  LA  DV  VK  BX  KU  KN  \\\n",
       "0  Aeronautical Engineering    S  51741   0   0   0   0   0   0   0   0   0   \n",
       "1  Aeronautical Engineering    S  52539   0   0   0   0   0   0   0   0   0   \n",
       "2  Aeronautical Engineering    S  51501   0   0   0   0   0   0   0   0   0   \n",
       "3  Aeronautical Engineering    S  48014   0   0   0   0   0   0   0   0   0   \n",
       "4  Aeronautical Engineering    S  52146   0   0   0   0   0   0   0   0   0   \n",
       "\n",
       "   SC  ST  \n",
       "0   0   0  \n",
       "1   0   0  \n",
       "2   0   0  \n",
       "3   0   0  \n",
       "4   0   0  "
      ],
      "text/html": [
       "<div>\n",
       "<style scoped>\n",
       "    .dataframe tbody tr th:only-of-type {\n",
       "        vertical-align: middle;\n",
       "    }\n",
       "\n",
       "    .dataframe tbody tr th {\n",
       "        vertical-align: top;\n",
       "    }\n",
       "\n",
       "    .dataframe thead th {\n",
       "        text-align: right;\n",
       "    }\n",
       "</style>\n",
       "<table border=\"1\" class=\"dataframe\">\n",
       "  <thead>\n",
       "    <tr style=\"text-align: right;\">\n",
       "      <th></th>\n",
       "      <th>Unnamed: 0</th>\n",
       "      <th>College Code</th>\n",
       "      <th>College Name</th>\n",
       "      <th>Course</th>\n",
       "      <th>Type</th>\n",
       "      <th>SM</th>\n",
       "      <th>EZ</th>\n",
       "      <th>MU</th>\n",
       "      <th>BH</th>\n",
       "      <th>LA</th>\n",
       "      <th>DV</th>\n",
       "      <th>VK</th>\n",
       "      <th>BX</th>\n",
       "      <th>KU</th>\n",
       "      <th>KN</th>\n",
       "      <th>SC</th>\n",
       "      <th>ST</th>\n",
       "    </tr>\n",
       "  </thead>\n",
       "  <tbody>\n",
       "    <tr>\n",
       "      <th>0</th>\n",
       "      <td>0</td>\n",
       "      <td>ILE</td>\n",
       "      <td>ILM College of Engineering, Perumbavoor, Ernak...</td>\n",
       "      <td>Aeronautical Engineering</td>\n",
       "      <td>S</td>\n",
       "      <td>51741</td>\n",
       "      <td>0</td>\n",
       "      <td>0</td>\n",
       "      <td>0</td>\n",
       "      <td>0</td>\n",
       "      <td>0</td>\n",
       "      <td>0</td>\n",
       "      <td>0</td>\n",
       "      <td>0</td>\n",
       "      <td>0</td>\n",
       "      <td>0</td>\n",
       "      <td>0</td>\n",
       "    </tr>\n",
       "    <tr>\n",
       "      <th>1</th>\n",
       "      <td>1</td>\n",
       "      <td>JCE</td>\n",
       "      <td>Jawaharlal College of Engineering &amp; Technology...</td>\n",
       "      <td>Aeronautical Engineering</td>\n",
       "      <td>S</td>\n",
       "      <td>52539</td>\n",
       "      <td>0</td>\n",
       "      <td>0</td>\n",
       "      <td>0</td>\n",
       "      <td>0</td>\n",
       "      <td>0</td>\n",
       "      <td>0</td>\n",
       "      <td>0</td>\n",
       "      <td>0</td>\n",
       "      <td>0</td>\n",
       "      <td>0</td>\n",
       "      <td>0</td>\n",
       "    </tr>\n",
       "    <tr>\n",
       "      <th>2</th>\n",
       "      <td>2</td>\n",
       "      <td>MHP</td>\n",
       "      <td>Ace College of Engineering, .Thiruvallam.</td>\n",
       "      <td>Aeronautical Engineering</td>\n",
       "      <td>S</td>\n",
       "      <td>51501</td>\n",
       "      <td>0</td>\n",
       "      <td>0</td>\n",
       "      <td>0</td>\n",
       "      <td>0</td>\n",
       "      <td>0</td>\n",
       "      <td>0</td>\n",
       "      <td>0</td>\n",
       "      <td>0</td>\n",
       "      <td>0</td>\n",
       "      <td>0</td>\n",
       "      <td>0</td>\n",
       "    </tr>\n",
       "    <tr>\n",
       "      <th>3</th>\n",
       "      <td>3</td>\n",
       "      <td>MZC</td>\n",
       "      <td>Mount Zion College of Engg., Pathanamthitta.</td>\n",
       "      <td>Aeronautical Engineering</td>\n",
       "      <td>S</td>\n",
       "      <td>48014</td>\n",
       "      <td>0</td>\n",
       "      <td>0</td>\n",
       "      <td>0</td>\n",
       "      <td>0</td>\n",
       "      <td>0</td>\n",
       "      <td>0</td>\n",
       "      <td>0</td>\n",
       "      <td>0</td>\n",
       "      <td>0</td>\n",
       "      <td>0</td>\n",
       "      <td>0</td>\n",
       "    </tr>\n",
       "    <tr>\n",
       "      <th>4</th>\n",
       "      <td>4</td>\n",
       "      <td>RIE</td>\n",
       "      <td>Rajadhani Institute of Engineering &amp; Tech., At...</td>\n",
       "      <td>Aeronautical Engineering</td>\n",
       "      <td>S</td>\n",
       "      <td>52146</td>\n",
       "      <td>0</td>\n",
       "      <td>0</td>\n",
       "      <td>0</td>\n",
       "      <td>0</td>\n",
       "      <td>0</td>\n",
       "      <td>0</td>\n",
       "      <td>0</td>\n",
       "      <td>0</td>\n",
       "      <td>0</td>\n",
       "      <td>0</td>\n",
       "      <td>0</td>\n",
       "    </tr>\n",
       "  </tbody>\n",
       "</table>\n",
       "</div>"
      ]
     },
     "metadata": {},
     "execution_count": 2
    }
   ],
   "metadata": {}
  },
  {
   "cell_type": "markdown",
   "source": [
    "#### Converting all occurences of \" - \" in the dataset to \" 0 \""
   ],
   "metadata": {}
  },
  {
   "cell_type": "code",
   "execution_count": 3,
   "source": [
    "# creating a list of column names of various categories\n",
    "categories = list(df.columns)[4:]\n",
    "\n",
    "# iterating over those categories\n",
    "for c in categories:\n",
    "    col = list(df[c])\n",
    "    \n",
    "    # iterating over values of that column\n",
    "    for i, x in enumerate(col):\n",
    "        if x=='-':\n",
    "            col[i] = 0\n",
    "        else:\n",
    "            col[i] = int(x) #converting the str values to int\n",
    "    \n",
    "    df[c] = col"
   ],
   "outputs": [
    {
     "output_type": "error",
     "ename": "ValueError",
     "evalue": "invalid literal for int() with base 10: 'S'",
     "traceback": [
      "\u001b[0;31m---------------------------------------------------------------------------\u001b[0m",
      "\u001b[0;31mValueError\u001b[0m                                Traceback (most recent call last)",
      "\u001b[0;32m/tmp/ipykernel_26802/3828762654.py\u001b[0m in \u001b[0;36m<module>\u001b[0;34m\u001b[0m\n\u001b[1;32m     11\u001b[0m             \u001b[0mcol\u001b[0m\u001b[0;34m[\u001b[0m\u001b[0mi\u001b[0m\u001b[0;34m]\u001b[0m \u001b[0;34m=\u001b[0m \u001b[0;36m0\u001b[0m\u001b[0;34m\u001b[0m\u001b[0;34m\u001b[0m\u001b[0m\n\u001b[1;32m     12\u001b[0m         \u001b[0;32melse\u001b[0m\u001b[0;34m:\u001b[0m\u001b[0;34m\u001b[0m\u001b[0;34m\u001b[0m\u001b[0m\n\u001b[0;32m---> 13\u001b[0;31m             \u001b[0mcol\u001b[0m\u001b[0;34m[\u001b[0m\u001b[0mi\u001b[0m\u001b[0;34m]\u001b[0m \u001b[0;34m=\u001b[0m \u001b[0mint\u001b[0m\u001b[0;34m(\u001b[0m\u001b[0mx\u001b[0m\u001b[0;34m)\u001b[0m \u001b[0;31m#converting the str values to int\u001b[0m\u001b[0;34m\u001b[0m\u001b[0;34m\u001b[0m\u001b[0m\n\u001b[0m\u001b[1;32m     14\u001b[0m \u001b[0;34m\u001b[0m\u001b[0m\n\u001b[1;32m     15\u001b[0m     \u001b[0mdf\u001b[0m\u001b[0;34m[\u001b[0m\u001b[0mc\u001b[0m\u001b[0;34m]\u001b[0m \u001b[0;34m=\u001b[0m \u001b[0mcol\u001b[0m\u001b[0;34m\u001b[0m\u001b[0;34m\u001b[0m\u001b[0m\n",
      "\u001b[0;31mValueError\u001b[0m: invalid literal for int() with base 10: 'S'"
     ]
    }
   ],
   "metadata": {
    "scrolled": true
   }
  },
  {
   "cell_type": "code",
   "execution_count": null,
   "source": [
    "df.head()"
   ],
   "outputs": [
    {
     "output_type": "execute_result",
     "data": {
      "text/plain": [
       "  College Code                                       College Name  \\\n",
       "0          ILE  ILM College of Engineering, Perumbavoor, Ernak...   \n",
       "1          JCE  Jawaharlal College of Engineering & Technology...   \n",
       "2          MHP          Ace College of Engineering, .Thiruvallam.   \n",
       "3          MZC       Mount Zion College of Engg., Pathanamthitta.   \n",
       "4          RIE  Rajadhani Institute of Engineering & Tech., At...   \n",
       "\n",
       "                     Course Type     SM  EZ  MU  BH  LA  DV  VK  BX  KU  KN  \\\n",
       "0  Aeronautical Engineering    S  51741   0   0   0   0   0   0   0   0   0   \n",
       "1  Aeronautical Engineering    S  52539   0   0   0   0   0   0   0   0   0   \n",
       "2  Aeronautical Engineering    S  51501   0   0   0   0   0   0   0   0   0   \n",
       "3  Aeronautical Engineering    S  48014   0   0   0   0   0   0   0   0   0   \n",
       "4  Aeronautical Engineering    S  52146   0   0   0   0   0   0   0   0   0   \n",
       "\n",
       "   SC  ST  \n",
       "0   0   0  \n",
       "1   0   0  \n",
       "2   0   0  \n",
       "3   0   0  \n",
       "4   0   0  "
      ],
      "text/html": [
       "<div>\n",
       "<style scoped>\n",
       "    .dataframe tbody tr th:only-of-type {\n",
       "        vertical-align: middle;\n",
       "    }\n",
       "\n",
       "    .dataframe tbody tr th {\n",
       "        vertical-align: top;\n",
       "    }\n",
       "\n",
       "    .dataframe thead th {\n",
       "        text-align: right;\n",
       "    }\n",
       "</style>\n",
       "<table border=\"1\" class=\"dataframe\">\n",
       "  <thead>\n",
       "    <tr style=\"text-align: right;\">\n",
       "      <th></th>\n",
       "      <th>College Code</th>\n",
       "      <th>College Name</th>\n",
       "      <th>Course</th>\n",
       "      <th>Type</th>\n",
       "      <th>SM</th>\n",
       "      <th>EZ</th>\n",
       "      <th>MU</th>\n",
       "      <th>BH</th>\n",
       "      <th>LA</th>\n",
       "      <th>DV</th>\n",
       "      <th>VK</th>\n",
       "      <th>BX</th>\n",
       "      <th>KU</th>\n",
       "      <th>KN</th>\n",
       "      <th>SC</th>\n",
       "      <th>ST</th>\n",
       "    </tr>\n",
       "  </thead>\n",
       "  <tbody>\n",
       "    <tr>\n",
       "      <th>0</th>\n",
       "      <td>ILE</td>\n",
       "      <td>ILM College of Engineering, Perumbavoor, Ernak...</td>\n",
       "      <td>Aeronautical Engineering</td>\n",
       "      <td>S</td>\n",
       "      <td>51741</td>\n",
       "      <td>0</td>\n",
       "      <td>0</td>\n",
       "      <td>0</td>\n",
       "      <td>0</td>\n",
       "      <td>0</td>\n",
       "      <td>0</td>\n",
       "      <td>0</td>\n",
       "      <td>0</td>\n",
       "      <td>0</td>\n",
       "      <td>0</td>\n",
       "      <td>0</td>\n",
       "    </tr>\n",
       "    <tr>\n",
       "      <th>1</th>\n",
       "      <td>JCE</td>\n",
       "      <td>Jawaharlal College of Engineering &amp; Technology...</td>\n",
       "      <td>Aeronautical Engineering</td>\n",
       "      <td>S</td>\n",
       "      <td>52539</td>\n",
       "      <td>0</td>\n",
       "      <td>0</td>\n",
       "      <td>0</td>\n",
       "      <td>0</td>\n",
       "      <td>0</td>\n",
       "      <td>0</td>\n",
       "      <td>0</td>\n",
       "      <td>0</td>\n",
       "      <td>0</td>\n",
       "      <td>0</td>\n",
       "      <td>0</td>\n",
       "    </tr>\n",
       "    <tr>\n",
       "      <th>2</th>\n",
       "      <td>MHP</td>\n",
       "      <td>Ace College of Engineering, .Thiruvallam.</td>\n",
       "      <td>Aeronautical Engineering</td>\n",
       "      <td>S</td>\n",
       "      <td>51501</td>\n",
       "      <td>0</td>\n",
       "      <td>0</td>\n",
       "      <td>0</td>\n",
       "      <td>0</td>\n",
       "      <td>0</td>\n",
       "      <td>0</td>\n",
       "      <td>0</td>\n",
       "      <td>0</td>\n",
       "      <td>0</td>\n",
       "      <td>0</td>\n",
       "      <td>0</td>\n",
       "    </tr>\n",
       "    <tr>\n",
       "      <th>3</th>\n",
       "      <td>MZC</td>\n",
       "      <td>Mount Zion College of Engg., Pathanamthitta.</td>\n",
       "      <td>Aeronautical Engineering</td>\n",
       "      <td>S</td>\n",
       "      <td>48014</td>\n",
       "      <td>0</td>\n",
       "      <td>0</td>\n",
       "      <td>0</td>\n",
       "      <td>0</td>\n",
       "      <td>0</td>\n",
       "      <td>0</td>\n",
       "      <td>0</td>\n",
       "      <td>0</td>\n",
       "      <td>0</td>\n",
       "      <td>0</td>\n",
       "      <td>0</td>\n",
       "    </tr>\n",
       "    <tr>\n",
       "      <th>4</th>\n",
       "      <td>RIE</td>\n",
       "      <td>Rajadhani Institute of Engineering &amp; Tech., At...</td>\n",
       "      <td>Aeronautical Engineering</td>\n",
       "      <td>S</td>\n",
       "      <td>52146</td>\n",
       "      <td>0</td>\n",
       "      <td>0</td>\n",
       "      <td>0</td>\n",
       "      <td>0</td>\n",
       "      <td>0</td>\n",
       "      <td>0</td>\n",
       "      <td>0</td>\n",
       "      <td>0</td>\n",
       "      <td>0</td>\n",
       "      <td>0</td>\n",
       "      <td>0</td>\n",
       "    </tr>\n",
       "  </tbody>\n",
       "</table>\n",
       "</div>"
      ]
     },
     "metadata": {},
     "execution_count": 4
    }
   ],
   "metadata": {}
  },
  {
   "cell_type": "markdown",
   "source": [
    "#### Accepting inputs"
   ],
   "metadata": {}
  },
  {
   "cell_type": "code",
   "execution_count": null,
   "source": [
    "rank = int(input(\"Enter your rank: \"))\n",
    "category = input(\"Enter your category: \")\n",
    "course = input(\"Enter your preferred course: \")"
   ],
   "outputs": [
    {
     "output_type": "stream",
     "name": "stdout",
     "text": [
      "Enter your rank: 50000\n",
      "Enter your category: SM\n",
      "Enter your preferred course: Computer Science & Engineering\n"
     ]
    }
   ],
   "metadata": {}
  },
  {
   "cell_type": "markdown",
   "source": [
    "#### Filtering the dataset based on user inputs"
   ],
   "metadata": {}
  },
  {
   "cell_type": "code",
   "execution_count": null,
   "source": [
    "# filtering based on user's rank, category and course\n",
    "df = df.loc[df['Course'] == course]\n",
    "df = df.loc[df[category] >= rank]\n",
    "\n",
    "# sorting based on closing rank\n",
    "df = df.sort_values(by = 'SM')\n",
    "df = df.reset_index(drop=True)\n",
    "\n",
    "# dropping a few columns \n",
    "cols_to_drop = [i for i in categories if i!=category]\n",
    "cols_to_drop.append(\"College Code\")\n",
    "cols_to_drop.append(\"Course\")\n",
    "df = df.drop(labels=cols_to_drop, axis=1)\n",
    "\n",
    "print(\"\\nAvailable colleges based on your rank, in the order of best to worst:\")\n",
    "df"
   ],
   "outputs": [
    {
     "output_type": "error",
     "ename": "NameError",
     "evalue": "name 'course' is not defined",
     "traceback": [
      "\u001b[0;31m---------------------------------------------------------------------------\u001b[0m",
      "\u001b[0;31mNameError\u001b[0m                                 Traceback (most recent call last)",
      "\u001b[0;32m/tmp/ipykernel_13929/3928745847.py\u001b[0m in \u001b[0;36m<module>\u001b[0;34m\u001b[0m\n\u001b[1;32m      1\u001b[0m \u001b[0;31m# filtering based on user's rank, category and course\u001b[0m\u001b[0;34m\u001b[0m\u001b[0;34m\u001b[0m\u001b[0;34m\u001b[0m\u001b[0m\n\u001b[0;32m----> 2\u001b[0;31m \u001b[0mdf\u001b[0m \u001b[0;34m=\u001b[0m \u001b[0mdf\u001b[0m\u001b[0;34m.\u001b[0m\u001b[0mloc\u001b[0m\u001b[0;34m[\u001b[0m\u001b[0mdf\u001b[0m\u001b[0;34m[\u001b[0m\u001b[0;34m'Course'\u001b[0m\u001b[0;34m]\u001b[0m \u001b[0;34m==\u001b[0m \u001b[0mcourse\u001b[0m\u001b[0;34m]\u001b[0m\u001b[0;34m\u001b[0m\u001b[0;34m\u001b[0m\u001b[0m\n\u001b[0m\u001b[1;32m      3\u001b[0m \u001b[0mdf\u001b[0m \u001b[0;34m=\u001b[0m \u001b[0mdf\u001b[0m\u001b[0;34m.\u001b[0m\u001b[0mloc\u001b[0m\u001b[0;34m[\u001b[0m\u001b[0mdf\u001b[0m\u001b[0;34m[\u001b[0m\u001b[0mcategory\u001b[0m\u001b[0;34m]\u001b[0m \u001b[0;34m>=\u001b[0m \u001b[0mrank\u001b[0m\u001b[0;34m]\u001b[0m\u001b[0;34m\u001b[0m\u001b[0;34m\u001b[0m\u001b[0m\n\u001b[1;32m      4\u001b[0m \u001b[0;34m\u001b[0m\u001b[0m\n\u001b[1;32m      5\u001b[0m \u001b[0;31m# sorting based on closing rank\u001b[0m\u001b[0;34m\u001b[0m\u001b[0;34m\u001b[0m\u001b[0;34m\u001b[0m\u001b[0m\n",
      "\u001b[0;31mNameError\u001b[0m: name 'course' is not defined"
     ]
    }
   ],
   "metadata": {}
  },
  {
   "cell_type": "code",
   "execution_count": null,
   "source": [
    "df.to_csv('ouput_csv/final_data.csv')"
   ],
   "outputs": [],
   "metadata": {}
  },
  {
   "cell_type": "code",
   "execution_count": null,
   "source": [
    "df.columns"
   ],
   "outputs": [
    {
     "output_type": "execute_result",
     "data": {
      "text/plain": [
       "Index(['Unnamed: 0', 'College Code', 'College Name', 'Course', 'Type', 'SM',\n",
       "       'EZ', 'MU', 'BH', 'LA', 'DV', 'VK', 'BX', 'KU', 'KN', 'SC', 'ST'],\n",
       "      dtype='object')"
      ]
     },
     "metadata": {},
     "execution_count": 5
    }
   ],
   "metadata": {}
  }
 ],
 "metadata": {
  "kernelspec": {
   "name": "python3",
   "display_name": "Python 3.9.6 64-bit"
  },
  "language_info": {
   "codemirror_mode": {
    "name": "ipython",
    "version": 3
   },
   "file_extension": ".py",
   "mimetype": "text/x-python",
   "name": "python",
   "nbconvert_exporter": "python",
   "pygments_lexer": "ipython3",
   "version": "3.9.6"
  },
  "interpreter": {
   "hash": "e7370f93d1d0cde622a1f8e1c04877d8463912d04d973331ad4851f04de6915a"
  }
 },
 "nbformat": 4,
 "nbformat_minor": 4
}